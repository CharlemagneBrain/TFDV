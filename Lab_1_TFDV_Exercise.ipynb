{
 "cells": [
  {
   "cell_type": "markdown",
   "metadata": {
    "id": "2V_OLlgtQ0DW"
   },
   "source": [
    "# Ungraded Lab: TFDV Exercise\n",
    "\n",
    "\n",
    "# Ungraded Lab: TFDV Exercise\n",
    "\n",
    "\n",
    "TFDV fournit des informations sur certaines questions clés du processus d'analyse de données telles que :\n",
    "\n",
    "* Quelles sont les statistiques sous-jacentes de mes données ?\n",
    "\n",
    "* Comment mon jeu de données d'entraînement est-il organisé ?\n",
    "\n",
    "* Comment mon jeu de données d'évaluation et de mise en service se compare-t-il au jeu de données d'entraînement ?\n",
    "\n",
    "* Comment puis-je trouver et corriger les anomalies de données ?\n",
    "\n",
    "La figure ci-dessous résume le processus habituel de TFDV :\n",
    "\n",
    "<img src='img/tfdv.png' alt='picture of tfdv workflow'>\n",
    "\n",
    "En MLOps (ops signifiant \"opérations\"), les termes \"feature skew\", \"schema skew\" et \"distribution skew\" font référence aux différents types de déséquilibres qui peuvent survenir dans les données d'un modèle de machine learning au cours de son cycle de vie.\n",
    "\n",
    "Voici ce que ces termes signifient en détail :\n",
    "\n",
    "**Feature skew** : cela se produit lorsqu'une ou plusieurs colonnes (ou features) d'un jeu de données ont des valeurs manquantes, aberrantes ou non valides. Cela peut affecter négativement la qualité du modèle et sa performance.\n",
    "\n",
    "**Schema skew** : cela se produit lorsqu'il y a des différences dans la structure ou le type des données entre les différentes versions d'un jeu de données. Par exemple, si une colonne a été ajoutée ou supprimée d'une version à l'autre, ou si le type de données d'une colonne a changé. Cela peut entraîner des erreurs lors de l'exécution du modèle.\n",
    "\n",
    "**Distribution skew** : cela se produit lorsqu'il y a des différences dans la distribution des données entre les différentes versions d'un jeu de données. Par exemple, si la proportion de valeurs positives et négatives dans une colonne a changé d'une version à l'autre. Cela peut affecter la qualité du modèle et sa performance.\n",
    "\n",
    "Il est important de surveiller et de corriger ces déséquilibres dans les données pour assurer la qualité et la robustesse du modèle de machine learning.\n",
    "<br/>\n",
    "Comme indiqué, nous pouvons utiliser TFDV pour calculer des statistiques descriptives des données d'entraînement et générer un schéma. Nous pouvons alors valider de nouveaux jeux de données (par exemple, le jeu de données de service de nos clients) contre ce schéma pour détecter et corriger les anomalies. Cela permet d'éviter les différents types de distorsion. De cette façon, nous pouvons être sûrs que notre modèle s'entraîne sur des données ou prédit des données qui sont cohérentes avec les types de caractéristiques et la distribution attendus.\n",
    "- **Générer et visualiser des statistiques à partir d'un jeu de données**\n",
    "- **Détecter et corriger les anomalies dans un jeu de données d'évaluation**\n",
    "\n"
   ]
  },
  {
   "cell_type": "markdown",
   "metadata": {
    "id": "lyGr4CC8AUfu"
   },
   "source": [
    "## Package Installation and Imports"
   ]
  },
  {
   "cell_type": "code",
   "execution_count": 1,
   "metadata": {
    "id": "GHi-tkOeBOis"
   },
   "outputs": [
    {
     "name": "stdout",
     "output_type": "stream",
     "text": [
      "TFDV Version: 1.3.0\n",
      "Tensorflow Version: 2.6.0\n"
     ]
    }
   ],
   "source": [
    "import tensorflow as tf\n",
    "import tensorflow_data_validation as tfdv\n",
    "import pandas as pd\n",
    "\n",
    "from sklearn.model_selection import train_test_split\n",
    "from util import add_extra_rows\n",
    "\n",
    "from tensorflow_metadata.proto.v0 import schema_pb2\n",
    "\n",
    "print('TFDV Version: {}'.format(tfdv.__version__))\n",
    "print('Tensorflow Version: {}'.format(tf.__version__))"
   ]
  },
  {
   "cell_type": "markdown",
   "metadata": {
    "id": "Kzt9rO9eAGF-"
   },
   "source": [
    "## Télécharger le jeu de données\n",
    "\n",
    "Vous allez travailler avec le [Census Income Dataset] (http://archive.ics.uci.edu/ml/datasets/Census+Income), un ensemble de données qui peut être utilisé pour prédire si un individu gagne plus ou moins de 50 000 dollars américains par an. Le résumé des noms d'attributs avec les descriptions/valeurs attendues est présenté ci-dessous et vous pouvez en savoir plus [dans ce fichier de description des données](https://archive.ics.uci.edu/ml/machine-learning-databases/adult/adult.names).\n",
    "\n",
    "\n",
    "* **âge** : continu.\n",
    "**classe de travail** : Privé, Indépendant-non-inc, Indépendant-inc, Fédéral-gouv, Local-gouv, Etat-gouv, Sans salaire, Jamais travaillé.\n",
    "**fnlwgt** : continu.\n",
    "** **éducation** : Bachelors, Some-college, 11th, HS-grad, Prof-school, Assoc-acdm, Assoc-voc, 9th, 7th-8th, 12th, Masters, 1st-4th, 10th, Doctorate, 5th-6th, Preschool.\n",
    "** **numéro d'éducation** : continu.\n",
    "**Statut matrimonial** : Marié(e)-conjoint(e), Divorcé(e), Jamais marié(e), Séparé(e), Veuf(ve), Conjoint(e)-absent(e), Conjoint(e)-AF.\n",
    "**Profession** : Support technique, Artisanat-réparation, Autres services, Ventes, Cadres supérieurs, Prof-spécialité, Manutentionnaires-nettoyeurs, Machines-op-inspct, Administration-classe, Agriculture-pêche, Transport-mouvement, Services domestiques privés, Services de protection, Forces armées.\n",
    "* **relation** : Femme, Enfant à charge, Mari, Pas dans la famille, Autre parent, Célibataire.\n",
    "**Race** : Blanc, Asiatique-Pac-Islander, Amérindien-Esquimau, Autre, Noir.\n",
    "**sexe** : Femme, Homme.\n",
    "**Gain de capital** : continu.\n",
    "* **perte de capital** : continu.\n",
    "* **heures-per-week** : continu.\n",
    "**Pays d'origine** : Etats-Unis, Cambodge, Angleterre, Puerto-Rico, Canada, Allemagne, Etats-Unis d'Amérique (Guam-USVI-etc), Inde, Japon, Grèce, Sud, Chine, Cuba, Iran, Honduras, Philippines, Italie, Pologne, Jamaïque, Vietnam, Mexique, Portugal, Irlande, France, République dominicaine, Laos, Equateur, Taiwan, Haïti, Colombie, Hongrie, Guatemala, Nicaragua, Ecosse, Thaïlande, Yougoslavie, El-Salvador, Trinadad&Tobago, Pérou, Hong, Hollande.\n",
    "\n",
    "Chargeons l'ensemble de données et divisons-le en ensembles de formation et d'évaluation. Nous ne les mélangerons pas pour obtenir des résultats cohérents dans ce notebook de démonstration, mais vous devriez le faire dans des projets réels.\n"
   ]
  },
  {
   "cell_type": "code",
   "execution_count": 2,
   "metadata": {
    "id": "WKTfuT2rga-_"
   },
   "outputs": [],
   "source": [
    "# Read in the training and evaluation datasets\n",
    "df = pd.read_csv('data/adult.data', skipinitialspace=True)\n",
    "\n",
    "# Split the dataset. Do not shuffle for this demo notebook.\n",
    "train_df, eval_df = train_test_split(df, test_size=0.2, shuffle=False)"
   ]
  },
  {
   "cell_type": "markdown",
   "metadata": {
    "id": "0RQvgiMRq0pn"
   },
   "source": [
    "Let's see the first few columns of the train and eval sets."
   ]
  },
  {
   "cell_type": "code",
   "execution_count": 3,
   "metadata": {
    "id": "uxDFD6dR0PYH"
   },
   "outputs": [
    {
     "data": {
      "text/html": [
       "<div>\n",
       "<style scoped>\n",
       "    .dataframe tbody tr th:only-of-type {\n",
       "        vertical-align: middle;\n",
       "    }\n",
       "\n",
       "    .dataframe tbody tr th {\n",
       "        vertical-align: top;\n",
       "    }\n",
       "\n",
       "    .dataframe thead th {\n",
       "        text-align: right;\n",
       "    }\n",
       "</style>\n",
       "<table border=\"1\" class=\"dataframe\">\n",
       "  <thead>\n",
       "    <tr style=\"text-align: right;\">\n",
       "      <th></th>\n",
       "      <th>age</th>\n",
       "      <th>workclass</th>\n",
       "      <th>fnlwgt</th>\n",
       "      <th>education</th>\n",
       "      <th>education-num</th>\n",
       "      <th>marital-status</th>\n",
       "      <th>occupation</th>\n",
       "      <th>relationship</th>\n",
       "      <th>race</th>\n",
       "      <th>sex</th>\n",
       "      <th>capital-gain</th>\n",
       "      <th>capital-loss</th>\n",
       "      <th>hours-per-week</th>\n",
       "      <th>native-country</th>\n",
       "      <th>label</th>\n",
       "    </tr>\n",
       "  </thead>\n",
       "  <tbody>\n",
       "    <tr>\n",
       "      <th>0</th>\n",
       "      <td>39</td>\n",
       "      <td>State-gov</td>\n",
       "      <td>77516</td>\n",
       "      <td>Bachelors</td>\n",
       "      <td>13</td>\n",
       "      <td>Never-married</td>\n",
       "      <td>Adm-clerical</td>\n",
       "      <td>Not-in-family</td>\n",
       "      <td>White</td>\n",
       "      <td>Male</td>\n",
       "      <td>2174</td>\n",
       "      <td>0</td>\n",
       "      <td>40</td>\n",
       "      <td>United-States</td>\n",
       "      <td>&lt;=50K</td>\n",
       "    </tr>\n",
       "    <tr>\n",
       "      <th>1</th>\n",
       "      <td>50</td>\n",
       "      <td>Self-emp-not-inc</td>\n",
       "      <td>83311</td>\n",
       "      <td>Bachelors</td>\n",
       "      <td>13</td>\n",
       "      <td>Married-civ-spouse</td>\n",
       "      <td>Exec-managerial</td>\n",
       "      <td>Husband</td>\n",
       "      <td>White</td>\n",
       "      <td>Male</td>\n",
       "      <td>0</td>\n",
       "      <td>0</td>\n",
       "      <td>13</td>\n",
       "      <td>United-States</td>\n",
       "      <td>&lt;=50K</td>\n",
       "    </tr>\n",
       "    <tr>\n",
       "      <th>2</th>\n",
       "      <td>38</td>\n",
       "      <td>Private</td>\n",
       "      <td>215646</td>\n",
       "      <td>HS-grad</td>\n",
       "      <td>9</td>\n",
       "      <td>Divorced</td>\n",
       "      <td>Handlers-cleaners</td>\n",
       "      <td>Not-in-family</td>\n",
       "      <td>White</td>\n",
       "      <td>Male</td>\n",
       "      <td>0</td>\n",
       "      <td>0</td>\n",
       "      <td>40</td>\n",
       "      <td>United-States</td>\n",
       "      <td>&lt;=50K</td>\n",
       "    </tr>\n",
       "    <tr>\n",
       "      <th>3</th>\n",
       "      <td>53</td>\n",
       "      <td>Private</td>\n",
       "      <td>234721</td>\n",
       "      <td>11th</td>\n",
       "      <td>7</td>\n",
       "      <td>Married-civ-spouse</td>\n",
       "      <td>Handlers-cleaners</td>\n",
       "      <td>Husband</td>\n",
       "      <td>Black</td>\n",
       "      <td>Male</td>\n",
       "      <td>0</td>\n",
       "      <td>0</td>\n",
       "      <td>40</td>\n",
       "      <td>United-States</td>\n",
       "      <td>&lt;=50K</td>\n",
       "    </tr>\n",
       "    <tr>\n",
       "      <th>4</th>\n",
       "      <td>28</td>\n",
       "      <td>Private</td>\n",
       "      <td>338409</td>\n",
       "      <td>Bachelors</td>\n",
       "      <td>13</td>\n",
       "      <td>Married-civ-spouse</td>\n",
       "      <td>Prof-specialty</td>\n",
       "      <td>Wife</td>\n",
       "      <td>Black</td>\n",
       "      <td>Female</td>\n",
       "      <td>0</td>\n",
       "      <td>0</td>\n",
       "      <td>40</td>\n",
       "      <td>Cuba</td>\n",
       "      <td>&lt;=50K</td>\n",
       "    </tr>\n",
       "  </tbody>\n",
       "</table>\n",
       "</div>"
      ],
      "text/plain": [
       "   age         workclass  fnlwgt  education  education-num  \\\n",
       "0   39         State-gov   77516  Bachelors             13   \n",
       "1   50  Self-emp-not-inc   83311  Bachelors             13   \n",
       "2   38           Private  215646    HS-grad              9   \n",
       "3   53           Private  234721       11th              7   \n",
       "4   28           Private  338409  Bachelors             13   \n",
       "\n",
       "       marital-status         occupation   relationship   race     sex  \\\n",
       "0       Never-married       Adm-clerical  Not-in-family  White    Male   \n",
       "1  Married-civ-spouse    Exec-managerial        Husband  White    Male   \n",
       "2            Divorced  Handlers-cleaners  Not-in-family  White    Male   \n",
       "3  Married-civ-spouse  Handlers-cleaners        Husband  Black    Male   \n",
       "4  Married-civ-spouse     Prof-specialty           Wife  Black  Female   \n",
       "\n",
       "   capital-gain  capital-loss  hours-per-week native-country  label  \n",
       "0          2174             0              40  United-States  <=50K  \n",
       "1             0             0              13  United-States  <=50K  \n",
       "2             0             0              40  United-States  <=50K  \n",
       "3             0             0              40  United-States  <=50K  \n",
       "4             0             0              40           Cuba  <=50K  "
      ]
     },
     "execution_count": 3,
     "metadata": {},
     "output_type": "execute_result"
    }
   ],
   "source": [
    "# Preview the train set\n",
    "train_df.head()"
   ]
  },
  {
   "cell_type": "code",
   "execution_count": 4,
   "metadata": {
    "id": "yyrmQLCm0a5V"
   },
   "outputs": [
    {
     "data": {
      "text/html": [
       "<div>\n",
       "<style scoped>\n",
       "    .dataframe tbody tr th:only-of-type {\n",
       "        vertical-align: middle;\n",
       "    }\n",
       "\n",
       "    .dataframe tbody tr th {\n",
       "        vertical-align: top;\n",
       "    }\n",
       "\n",
       "    .dataframe thead th {\n",
       "        text-align: right;\n",
       "    }\n",
       "</style>\n",
       "<table border=\"1\" class=\"dataframe\">\n",
       "  <thead>\n",
       "    <tr style=\"text-align: right;\">\n",
       "      <th></th>\n",
       "      <th>age</th>\n",
       "      <th>workclass</th>\n",
       "      <th>fnlwgt</th>\n",
       "      <th>education</th>\n",
       "      <th>education-num</th>\n",
       "      <th>marital-status</th>\n",
       "      <th>occupation</th>\n",
       "      <th>relationship</th>\n",
       "      <th>race</th>\n",
       "      <th>sex</th>\n",
       "      <th>capital-gain</th>\n",
       "      <th>capital-loss</th>\n",
       "      <th>hours-per-week</th>\n",
       "      <th>native-country</th>\n",
       "      <th>label</th>\n",
       "    </tr>\n",
       "  </thead>\n",
       "  <tbody>\n",
       "    <tr>\n",
       "      <th>26048</th>\n",
       "      <td>30</td>\n",
       "      <td>Private</td>\n",
       "      <td>270886</td>\n",
       "      <td>Some-college</td>\n",
       "      <td>10</td>\n",
       "      <td>Never-married</td>\n",
       "      <td>Other-service</td>\n",
       "      <td>Own-child</td>\n",
       "      <td>White</td>\n",
       "      <td>Female</td>\n",
       "      <td>0</td>\n",
       "      <td>0</td>\n",
       "      <td>40</td>\n",
       "      <td>United-States</td>\n",
       "      <td>&lt;=50K</td>\n",
       "    </tr>\n",
       "    <tr>\n",
       "      <th>26049</th>\n",
       "      <td>21</td>\n",
       "      <td>Private</td>\n",
       "      <td>216129</td>\n",
       "      <td>HS-grad</td>\n",
       "      <td>9</td>\n",
       "      <td>Never-married</td>\n",
       "      <td>Other-service</td>\n",
       "      <td>Own-child</td>\n",
       "      <td>White</td>\n",
       "      <td>Male</td>\n",
       "      <td>0</td>\n",
       "      <td>0</td>\n",
       "      <td>35</td>\n",
       "      <td>United-States</td>\n",
       "      <td>&lt;=50K</td>\n",
       "    </tr>\n",
       "    <tr>\n",
       "      <th>26050</th>\n",
       "      <td>33</td>\n",
       "      <td>Private</td>\n",
       "      <td>189368</td>\n",
       "      <td>Some-college</td>\n",
       "      <td>10</td>\n",
       "      <td>Married-civ-spouse</td>\n",
       "      <td>Transport-moving</td>\n",
       "      <td>Husband</td>\n",
       "      <td>Black</td>\n",
       "      <td>Male</td>\n",
       "      <td>0</td>\n",
       "      <td>0</td>\n",
       "      <td>40</td>\n",
       "      <td>United-States</td>\n",
       "      <td>&gt;50K</td>\n",
       "    </tr>\n",
       "    <tr>\n",
       "      <th>26051</th>\n",
       "      <td>19</td>\n",
       "      <td>?</td>\n",
       "      <td>141418</td>\n",
       "      <td>Some-college</td>\n",
       "      <td>10</td>\n",
       "      <td>Never-married</td>\n",
       "      <td>?</td>\n",
       "      <td>Own-child</td>\n",
       "      <td>White</td>\n",
       "      <td>Male</td>\n",
       "      <td>0</td>\n",
       "      <td>0</td>\n",
       "      <td>15</td>\n",
       "      <td>United-States</td>\n",
       "      <td>&lt;=50K</td>\n",
       "    </tr>\n",
       "    <tr>\n",
       "      <th>26052</th>\n",
       "      <td>19</td>\n",
       "      <td>Private</td>\n",
       "      <td>306225</td>\n",
       "      <td>HS-grad</td>\n",
       "      <td>9</td>\n",
       "      <td>Never-married</td>\n",
       "      <td>Handlers-cleaners</td>\n",
       "      <td>Own-child</td>\n",
       "      <td>White</td>\n",
       "      <td>Male</td>\n",
       "      <td>0</td>\n",
       "      <td>0</td>\n",
       "      <td>25</td>\n",
       "      <td>United-States</td>\n",
       "      <td>&lt;=50K</td>\n",
       "    </tr>\n",
       "  </tbody>\n",
       "</table>\n",
       "</div>"
      ],
      "text/plain": [
       "       age workclass  fnlwgt     education  education-num      marital-status  \\\n",
       "26048   30   Private  270886  Some-college             10       Never-married   \n",
       "26049   21   Private  216129       HS-grad              9       Never-married   \n",
       "26050   33   Private  189368  Some-college             10  Married-civ-spouse   \n",
       "26051   19         ?  141418  Some-college             10       Never-married   \n",
       "26052   19   Private  306225       HS-grad              9       Never-married   \n",
       "\n",
       "              occupation relationship   race     sex  capital-gain  \\\n",
       "26048      Other-service    Own-child  White  Female             0   \n",
       "26049      Other-service    Own-child  White    Male             0   \n",
       "26050   Transport-moving      Husband  Black    Male             0   \n",
       "26051                  ?    Own-child  White    Male             0   \n",
       "26052  Handlers-cleaners    Own-child  White    Male             0   \n",
       "\n",
       "       capital-loss  hours-per-week native-country  label  \n",
       "26048             0              40  United-States  <=50K  \n",
       "26049             0              35  United-States  <=50K  \n",
       "26050             0              40  United-States   >50K  \n",
       "26051             0              15  United-States  <=50K  \n",
       "26052             0              25  United-States  <=50K  "
      ]
     },
     "execution_count": 4,
     "metadata": {},
     "output_type": "execute_result"
    }
   ],
   "source": [
    "# Preview the eval set\n",
    "eval_df.head()"
   ]
  },
  {
   "cell_type": "markdown",
   "metadata": {
    "id": "12_uIoIjr9lv"
   },
   "source": [
    "À partir de ces quelques colonnes, vous pouvez avoir une première impression des données. Vous remarquerez que la plupart sont des chaînes de caractères et des nombres entiers. Il y a aussi des colonnes qui sont principalement des zéros."
   ]
  },
  {
   "cell_type": "markdown",
   "metadata": {},
   "source": [
    "### Ajout de lignes supplémentaires\n",
    "\n",
    "Pour démontrer comment TFDV peut détecter des anomalies plus tard, vous allez ajouter quelques lignes supplémentaires au jeu de données d'évaluation. Celles-ci sont soit mal formées, soit ont des valeurs qui déclencheront certaines alarmes plus tard dans ce cahier. Le code pour les ajouter peut être vu dans la fonction `add_extra_rows()` de `util.py` trouvé dans votre espace de travail Jupyter. Vous pourrez y jeter un coup d'oeil plus tard et même le modifier une fois que vous aurez terminé l'exercice. Pour l'instant, exécutons simplement la fonction et ajoutons les rangées que nous avons définies par défaut ."
   ]
  },
  {
   "cell_type": "code",
   "execution_count": 5,
   "metadata": {},
   "outputs": [
    {
     "data": {
      "text/html": [
       "<div>\n",
       "<style scoped>\n",
       "    .dataframe tbody tr th:only-of-type {\n",
       "        vertical-align: middle;\n",
       "    }\n",
       "\n",
       "    .dataframe tbody tr th {\n",
       "        vertical-align: top;\n",
       "    }\n",
       "\n",
       "    .dataframe thead th {\n",
       "        text-align: right;\n",
       "    }\n",
       "</style>\n",
       "<table border=\"1\" class=\"dataframe\">\n",
       "  <thead>\n",
       "    <tr style=\"text-align: right;\">\n",
       "      <th></th>\n",
       "      <th>age</th>\n",
       "      <th>workclass</th>\n",
       "      <th>fnlwgt</th>\n",
       "      <th>education</th>\n",
       "      <th>education-num</th>\n",
       "      <th>marital-status</th>\n",
       "      <th>occupation</th>\n",
       "      <th>relationship</th>\n",
       "      <th>race</th>\n",
       "      <th>sex</th>\n",
       "      <th>capital-gain</th>\n",
       "      <th>capital-loss</th>\n",
       "      <th>hours-per-week</th>\n",
       "      <th>native-country</th>\n",
       "      <th>label</th>\n",
       "    </tr>\n",
       "  </thead>\n",
       "  <tbody>\n",
       "    <tr>\n",
       "      <th>6513</th>\n",
       "      <td>46</td>\n",
       "      <td>NaN</td>\n",
       "      <td>257473</td>\n",
       "      <td>Bachelors</td>\n",
       "      <td>8</td>\n",
       "      <td>Married-civ-spouse</td>\n",
       "      <td>Plumber</td>\n",
       "      <td>Husband</td>\n",
       "      <td>Other</td>\n",
       "      <td>Male</td>\n",
       "      <td>1000</td>\n",
       "      <td>0</td>\n",
       "      <td>41</td>\n",
       "      <td>Australia</td>\n",
       "      <td>&gt;50K</td>\n",
       "    </tr>\n",
       "    <tr>\n",
       "      <th>6514</th>\n",
       "      <td>0</td>\n",
       "      <td>Private</td>\n",
       "      <td>257473</td>\n",
       "      <td>Masters</td>\n",
       "      <td>8</td>\n",
       "      <td>Married-civ-spouse</td>\n",
       "      <td>Adm-clerical</td>\n",
       "      <td>Wife</td>\n",
       "      <td>Asian</td>\n",
       "      <td>Female</td>\n",
       "      <td>0</td>\n",
       "      <td>0</td>\n",
       "      <td>40</td>\n",
       "      <td>Pakistan</td>\n",
       "      <td>&gt;50K</td>\n",
       "    </tr>\n",
       "    <tr>\n",
       "      <th>6515</th>\n",
       "      <td>1000</td>\n",
       "      <td>Private</td>\n",
       "      <td>257473</td>\n",
       "      <td>Masters</td>\n",
       "      <td>8</td>\n",
       "      <td>Married-civ-spouse</td>\n",
       "      <td>Prof-specialty</td>\n",
       "      <td>Husband</td>\n",
       "      <td>Black</td>\n",
       "      <td>Male</td>\n",
       "      <td>0</td>\n",
       "      <td>0</td>\n",
       "      <td>20</td>\n",
       "      <td>Cameroon</td>\n",
       "      <td>&lt;=50K</td>\n",
       "    </tr>\n",
       "    <tr>\n",
       "      <th>6516</th>\n",
       "      <td>25</td>\n",
       "      <td>?</td>\n",
       "      <td>257473</td>\n",
       "      <td>Masters</td>\n",
       "      <td>8</td>\n",
       "      <td>Married-civ-spouse</td>\n",
       "      <td>gamer</td>\n",
       "      <td>Husband</td>\n",
       "      <td>Asian</td>\n",
       "      <td>Female</td>\n",
       "      <td>0</td>\n",
       "      <td>0</td>\n",
       "      <td>50</td>\n",
       "      <td>Mongolia</td>\n",
       "      <td>&lt;=50K</td>\n",
       "    </tr>\n",
       "  </tbody>\n",
       "</table>\n",
       "</div>"
      ],
      "text/plain": [
       "       age workclass  fnlwgt  education  education-num      marital-status  \\\n",
       "6513    46       NaN  257473  Bachelors              8  Married-civ-spouse   \n",
       "6514     0   Private  257473    Masters              8  Married-civ-spouse   \n",
       "6515  1000   Private  257473    Masters              8  Married-civ-spouse   \n",
       "6516    25         ?  257473    Masters              8  Married-civ-spouse   \n",
       "\n",
       "          occupation relationship   race     sex  capital-gain  capital-loss  \\\n",
       "6513         Plumber      Husband  Other    Male          1000             0   \n",
       "6514    Adm-clerical         Wife  Asian  Female             0             0   \n",
       "6515  Prof-specialty      Husband  Black    Male             0             0   \n",
       "6516           gamer      Husband  Asian  Female             0             0   \n",
       "\n",
       "      hours-per-week native-country  label  \n",
       "6513              41      Australia   >50K  \n",
       "6514              40       Pakistan   >50K  \n",
       "6515              20       Cameroon  <=50K  \n",
       "6516              50       Mongolia  <=50K  "
      ]
     },
     "execution_count": 5,
     "metadata": {},
     "output_type": "execute_result"
    }
   ],
   "source": [
    "# add extra rows\n",
    "eval_df = add_extra_rows(eval_df)\n",
    "\n",
    "# preview the added rows\n",
    "eval_df.tail(4)"
   ]
  },
  {
   "cell_type": "markdown",
   "metadata": {
    "id": "Duwwrsvf_9bK"
   },
   "source": [
    "## Generate and visualize training dataset statistics"
   ]
  },
  {
   "cell_type": "markdown",
   "metadata": {
    "id": "5Nm5E1HAgPU0"
   },
   "source": [
    "Vous pouvez maintenant calculer et visualiser les statistiques de votre ensemble de données d'entraînement. TFDV accepte trois formats d'entrée : TFRecord de TensorFlow, Dataframe Pandas et fichier CSV. Dans cet exercice, vous allez introduire les Dataframes Pandas que vous avez générés à partir de la division train-test. \n",
    "\n",
    "Vous pouvez calculer les statistiques de votre ensemble de données en utilisant la méthode [`generate_statistics_from_dataframe()`](https://www.tensorflow.org/tfx/data_validation/api_docs/python/tfdv/generate_statistics_from_dataframe). Sous le capot, l'analyse est distribuée via [Apache Beam](https://beam.apache.org/), ce qui lui permet de s'adapter à de grands ensembles de données.\n",
    "\n",
    "Les résultats renvoyés par cette étape pour les données numériques et catégorielles sont résumés dans ce tableau :\n",
    "\n",
    "| Données numériques Données catégorielles\n",
    "|:-:|:-:|\n",
    "|Nombre d'enregistrements de données Nombre d'enregistrements de données\n",
    "|Pourcentage d'enregistrements manquants. Pourcentage d'enregistrements manquants.\n",
    "|Moyenne, std, min, max|enregistrements uniques|.\n",
    "|% de valeurs nulles|Longueur moyenne des chaînes de caractères|.\n"
   ]
  },
  {
   "cell_type": "code",
   "execution_count": 6,
   "metadata": {
    "id": "_vTx9Qkk4yGc"
   },
   "outputs": [],
   "source": [
    "# Generate training dataset statistics\n",
    "train_stats = tfdv.generate_statistics_from_dataframe(train_df)"
   ]
  },
  {
   "cell_type": "markdown",
   "metadata": {
    "id": "86nhDglwuilJ"
   },
   "source": [
    "Une fois que vous avez généré les statistiques, vous pouvez facilement visualiser vos résultats avec la méthode [`visualize_statistics()`](https://www.tensorflow.org/tfx/data_validation/api_docs/python/tfdv/visualize_statistics). Cette méthode affiche une [interface Facets](https://pair-code.github.io/facets/) et est très utile pour repérer si vous avez un grand nombre de données manquantes ou un écart type élevé. Exécutez la cellule ci-dessous et explorez les différents paramètres de l'interface de sortie (par exemple, trier par, ordre inverse, recherche de caractéristiques)."
   ]
  },
  {
   "cell_type": "code",
   "execution_count": 8,
   "metadata": {
    "id": "1D1wP3mm5ebW"
   },
   "outputs": [
    {
     "data": {
      "text/html": [
       "<iframe id='facets-iframe' width=\"100%\" height=\"500px\"></iframe>\n",
       "        <script>\n",
       "        facets_iframe = document.getElementById('facets-iframe');\n",
       "        facets_html = '<script src=\"https://cdnjs.cloudflare.com/ajax/libs/webcomponentsjs/1.3.3/webcomponents-lite.js\"><\\/script><link rel=\"import\" href=\"https://raw.githubusercontent.com/PAIR-code/facets/master/facets-dist/facets-jupyter.html\"><facets-overview proto-input=\"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\"></facets-overview>';\n",
       "        facets_iframe.srcdoc = facets_html;\n",
       "         facets_iframe.id = \"\";\n",
       "         setTimeout(() => {\n",
       "           facets_iframe.setAttribute('height', facets_iframe.contentWindow.document.body.offsetHeight + 'px')\n",
       "         }, 1500)\n",
       "         </script>"
      ],
      "text/plain": [
       "<IPython.core.display.HTML object>"
      ]
     },
     "metadata": {},
     "output_type": "display_data"
    }
   ],
   "source": [
    "# Visualize training dataset statistics\n",
    "tfdv.visualize_statistics(train_stats)"
   ]
  },
  {
   "cell_type": "markdown",
   "metadata": {
    "id": "DVQTOBpdgPU0"
   },
   "source": [
    "## Infer data schema"
   ]
  },
  {
   "cell_type": "markdown",
   "metadata": {
    "id": "Ya6ecHE9gPU1"
   },
   "source": [
    "L'étape suivante consiste à créer un schéma de données pour décrire votre ensemble de trains. En termes simples, un schéma décrit les caractéristiques standard de vos données, telles que les types de données des colonnes et la plage de valeurs des données attendues. Le schéma est créé sur un ensemble de données que vous considérez comme une référence, et peut être réutilisé pour valider d'autres ensembles de données entrants.\n",
    "\n",
    "Avec les statistiques calculées, TFDV vous permet de générer automatiquement une version initiale du schéma en utilisant la méthode [`infer_schema()`](https://www.tensorflow.org/tfx/data_validation/api_docs/python/tfdv/infer_schema). Cette méthode renvoie un Schema [protocol buffer](https://developers.google.com/protocol-buffers) contenant le résultat. Comme mentionné dans le [TFX paper](http://stevenwhang.com/tfx_paper.pdf) (Section 3.3), les résultats de l'inférence du schéma peuvent être résumés comme suit :\n",
    "\n",
    "* Le type attendu de chaque élément.\n",
    "* La présence attendue de chaque caractéristique, en termes de nombre minimum et de fraction d'exemples qui doivent contenir la caractéristique.\n",
    "* La valence attendue de la caractéristique dans chaque exemple, c'est-à-dire,le nombre minimum et maximum de valeurs.\n",
    "* Le domaine attendu d'une caractéristique, c'est-à-dire le petit univers de valeurs pour une caractéristique de type chaîne, ou la gamme de valeurs pour une caractéristique de type chaîne de caractères, ou la plage pour une caractéristique de type nombre entier.\n"
   ]
  },
  {
   "cell_type": "code",
   "execution_count": 9,
   "metadata": {
    "id": "W9skjM-M44Jz"
   },
   "outputs": [
    {
     "data": {
      "text/html": [
       "<div>\n",
       "<style scoped>\n",
       "    .dataframe tbody tr th:only-of-type {\n",
       "        vertical-align: middle;\n",
       "    }\n",
       "\n",
       "    .dataframe tbody tr th {\n",
       "        vertical-align: top;\n",
       "    }\n",
       "\n",
       "    .dataframe thead th {\n",
       "        text-align: right;\n",
       "    }\n",
       "</style>\n",
       "<table border=\"1\" class=\"dataframe\">\n",
       "  <thead>\n",
       "    <tr style=\"text-align: right;\">\n",
       "      <th></th>\n",
       "      <th>Type</th>\n",
       "      <th>Presence</th>\n",
       "      <th>Valency</th>\n",
       "      <th>Domain</th>\n",
       "    </tr>\n",
       "    <tr>\n",
       "      <th>Feature name</th>\n",
       "      <th></th>\n",
       "      <th></th>\n",
       "      <th></th>\n",
       "      <th></th>\n",
       "    </tr>\n",
       "  </thead>\n",
       "  <tbody>\n",
       "    <tr>\n",
       "      <th>'age'</th>\n",
       "      <td>INT</td>\n",
       "      <td>required</td>\n",
       "      <td></td>\n",
       "      <td>-</td>\n",
       "    </tr>\n",
       "    <tr>\n",
       "      <th>'workclass'</th>\n",
       "      <td>STRING</td>\n",
       "      <td>required</td>\n",
       "      <td></td>\n",
       "      <td>'workclass'</td>\n",
       "    </tr>\n",
       "    <tr>\n",
       "      <th>'fnlwgt'</th>\n",
       "      <td>INT</td>\n",
       "      <td>required</td>\n",
       "      <td></td>\n",
       "      <td>-</td>\n",
       "    </tr>\n",
       "    <tr>\n",
       "      <th>'education'</th>\n",
       "      <td>STRING</td>\n",
       "      <td>required</td>\n",
       "      <td></td>\n",
       "      <td>'education'</td>\n",
       "    </tr>\n",
       "    <tr>\n",
       "      <th>'education-num'</th>\n",
       "      <td>INT</td>\n",
       "      <td>required</td>\n",
       "      <td></td>\n",
       "      <td>-</td>\n",
       "    </tr>\n",
       "    <tr>\n",
       "      <th>'marital-status'</th>\n",
       "      <td>STRING</td>\n",
       "      <td>required</td>\n",
       "      <td></td>\n",
       "      <td>'marital-status'</td>\n",
       "    </tr>\n",
       "    <tr>\n",
       "      <th>'occupation'</th>\n",
       "      <td>STRING</td>\n",
       "      <td>required</td>\n",
       "      <td></td>\n",
       "      <td>'occupation'</td>\n",
       "    </tr>\n",
       "    <tr>\n",
       "      <th>'relationship'</th>\n",
       "      <td>STRING</td>\n",
       "      <td>required</td>\n",
       "      <td></td>\n",
       "      <td>'relationship'</td>\n",
       "    </tr>\n",
       "    <tr>\n",
       "      <th>'race'</th>\n",
       "      <td>STRING</td>\n",
       "      <td>required</td>\n",
       "      <td></td>\n",
       "      <td>'race'</td>\n",
       "    </tr>\n",
       "    <tr>\n",
       "      <th>'sex'</th>\n",
       "      <td>STRING</td>\n",
       "      <td>required</td>\n",
       "      <td></td>\n",
       "      <td>'sex'</td>\n",
       "    </tr>\n",
       "    <tr>\n",
       "      <th>'capital-gain'</th>\n",
       "      <td>INT</td>\n",
       "      <td>required</td>\n",
       "      <td></td>\n",
       "      <td>-</td>\n",
       "    </tr>\n",
       "    <tr>\n",
       "      <th>'capital-loss'</th>\n",
       "      <td>INT</td>\n",
       "      <td>required</td>\n",
       "      <td></td>\n",
       "      <td>-</td>\n",
       "    </tr>\n",
       "    <tr>\n",
       "      <th>'hours-per-week'</th>\n",
       "      <td>INT</td>\n",
       "      <td>required</td>\n",
       "      <td></td>\n",
       "      <td>-</td>\n",
       "    </tr>\n",
       "    <tr>\n",
       "      <th>'native-country'</th>\n",
       "      <td>STRING</td>\n",
       "      <td>required</td>\n",
       "      <td></td>\n",
       "      <td>'native-country'</td>\n",
       "    </tr>\n",
       "    <tr>\n",
       "      <th>'label'</th>\n",
       "      <td>STRING</td>\n",
       "      <td>required</td>\n",
       "      <td></td>\n",
       "      <td>'label'</td>\n",
       "    </tr>\n",
       "  </tbody>\n",
       "</table>\n",
       "</div>"
      ],
      "text/plain": [
       "                    Type  Presence Valency            Domain\n",
       "Feature name                                                \n",
       "'age'                INT  required                         -\n",
       "'workclass'       STRING  required               'workclass'\n",
       "'fnlwgt'             INT  required                         -\n",
       "'education'       STRING  required               'education'\n",
       "'education-num'      INT  required                         -\n",
       "'marital-status'  STRING  required          'marital-status'\n",
       "'occupation'      STRING  required              'occupation'\n",
       "'relationship'    STRING  required            'relationship'\n",
       "'race'            STRING  required                    'race'\n",
       "'sex'             STRING  required                     'sex'\n",
       "'capital-gain'       INT  required                         -\n",
       "'capital-loss'       INT  required                         -\n",
       "'hours-per-week'     INT  required                         -\n",
       "'native-country'  STRING  required          'native-country'\n",
       "'label'           STRING  required                   'label'"
      ]
     },
     "metadata": {},
     "output_type": "display_data"
    },
    {
     "data": {
      "text/html": [
       "<div>\n",
       "<style scoped>\n",
       "    .dataframe tbody tr th:only-of-type {\n",
       "        vertical-align: middle;\n",
       "    }\n",
       "\n",
       "    .dataframe tbody tr th {\n",
       "        vertical-align: top;\n",
       "    }\n",
       "\n",
       "    .dataframe thead th {\n",
       "        text-align: right;\n",
       "    }\n",
       "</style>\n",
       "<table border=\"1\" class=\"dataframe\">\n",
       "  <thead>\n",
       "    <tr style=\"text-align: right;\">\n",
       "      <th></th>\n",
       "      <th>Values</th>\n",
       "    </tr>\n",
       "    <tr>\n",
       "      <th>Domain</th>\n",
       "      <th></th>\n",
       "    </tr>\n",
       "  </thead>\n",
       "  <tbody>\n",
       "    <tr>\n",
       "      <th>'workclass'</th>\n",
       "      <td>'?', 'Federal-gov', 'Local-gov', 'Never-worked', 'Private', 'Self-emp-inc', 'Self-emp-not-inc', 'State-gov', 'Without-pay'</td>\n",
       "    </tr>\n",
       "    <tr>\n",
       "      <th>'education'</th>\n",
       "      <td>'10th', '11th', '12th', '1st-4th', '5th-6th', '7th-8th', '9th', 'Assoc-acdm', 'Assoc-voc', 'Bachelors', 'Doctorate', 'HS-grad', 'Masters', 'Preschool', 'Prof-school', 'Some-college'</td>\n",
       "    </tr>\n",
       "    <tr>\n",
       "      <th>'marital-status'</th>\n",
       "      <td>'Divorced', 'Married-AF-spouse', 'Married-civ-spouse', 'Married-spouse-absent', 'Never-married', 'Separated', 'Widowed'</td>\n",
       "    </tr>\n",
       "    <tr>\n",
       "      <th>'occupation'</th>\n",
       "      <td>'?', 'Adm-clerical', 'Armed-Forces', 'Craft-repair', 'Exec-managerial', 'Farming-fishing', 'Handlers-cleaners', 'Machine-op-inspct', 'Other-service', 'Priv-house-serv', 'Prof-specialty', 'Protective-serv', 'Sales', 'Tech-support', 'Transport-moving'</td>\n",
       "    </tr>\n",
       "    <tr>\n",
       "      <th>'relationship'</th>\n",
       "      <td>'Husband', 'Not-in-family', 'Other-relative', 'Own-child', 'Unmarried', 'Wife'</td>\n",
       "    </tr>\n",
       "    <tr>\n",
       "      <th>'race'</th>\n",
       "      <td>'Amer-Indian-Eskimo', 'Asian-Pac-Islander', 'Black', 'Other', 'White'</td>\n",
       "    </tr>\n",
       "    <tr>\n",
       "      <th>'sex'</th>\n",
       "      <td>'Female', 'Male'</td>\n",
       "    </tr>\n",
       "    <tr>\n",
       "      <th>'native-country'</th>\n",
       "      <td>'?', 'Cambodia', 'Canada', 'China', 'Columbia', 'Cuba', 'Dominican-Republic', 'Ecuador', 'El-Salvador', 'England', 'France', 'Germany', 'Greece', 'Guatemala', 'Haiti', 'Holand-Netherlands', 'Honduras', 'Hong', 'Hungary', 'India', 'Iran', 'Ireland', 'Italy', 'Jamaica', 'Japan', 'Laos', 'Mexico', 'Nicaragua', 'Outlying-US(Guam-USVI-etc)', 'Peru', 'Philippines', 'Poland', 'Portugal', 'Puerto-Rico', 'Scotland', 'South', 'Taiwan', 'Thailand', 'Trinadad&amp;Tobago', 'United-States', 'Vietnam', 'Yugoslavia'</td>\n",
       "    </tr>\n",
       "    <tr>\n",
       "      <th>'label'</th>\n",
       "      <td>'&lt;=50K', '&gt;50K'</td>\n",
       "    </tr>\n",
       "  </tbody>\n",
       "</table>\n",
       "</div>"
      ],
      "text/plain": [
       "                                                                                                                                                                                                                                                                                                                                                                                                                                                                                                                                 Values\n",
       "Domain                                                                                                                                                                                                                                                                                                                                                                                                                                                                                                                                 \n",
       "'workclass'       '?', 'Federal-gov', 'Local-gov', 'Never-worked', 'Private', 'Self-emp-inc', 'Self-emp-not-inc', 'State-gov', 'Without-pay'                                                                                                                                                                                                                                                                                                                                                                                           \n",
       "'education'       '10th', '11th', '12th', '1st-4th', '5th-6th', '7th-8th', '9th', 'Assoc-acdm', 'Assoc-voc', 'Bachelors', 'Doctorate', 'HS-grad', 'Masters', 'Preschool', 'Prof-school', 'Some-college'                                                                                                                                                                                                                                                                                                                                \n",
       "'marital-status'  'Divorced', 'Married-AF-spouse', 'Married-civ-spouse', 'Married-spouse-absent', 'Never-married', 'Separated', 'Widowed'                                                                                                                                                                                                                                                                                                                                                                                              \n",
       "'occupation'      '?', 'Adm-clerical', 'Armed-Forces', 'Craft-repair', 'Exec-managerial', 'Farming-fishing', 'Handlers-cleaners', 'Machine-op-inspct', 'Other-service', 'Priv-house-serv', 'Prof-specialty', 'Protective-serv', 'Sales', 'Tech-support', 'Transport-moving'                                                                                                                                                                                                                                                            \n",
       "'relationship'    'Husband', 'Not-in-family', 'Other-relative', 'Own-child', 'Unmarried', 'Wife'                                                                                                                                                                                                                                                                                                                                                                                                                                       \n",
       "'race'            'Amer-Indian-Eskimo', 'Asian-Pac-Islander', 'Black', 'Other', 'White'                                                                                                                                                                                                                                                                                                                                                                                                                                                \n",
       "'sex'             'Female', 'Male'                                                                                                                                                                                                                                                                                                                                                                                                                                                                                                     \n",
       "'native-country'  '?', 'Cambodia', 'Canada', 'China', 'Columbia', 'Cuba', 'Dominican-Republic', 'Ecuador', 'El-Salvador', 'England', 'France', 'Germany', 'Greece', 'Guatemala', 'Haiti', 'Holand-Netherlands', 'Honduras', 'Hong', 'Hungary', 'India', 'Iran', 'Ireland', 'Italy', 'Jamaica', 'Japan', 'Laos', 'Mexico', 'Nicaragua', 'Outlying-US(Guam-USVI-etc)', 'Peru', 'Philippines', 'Poland', 'Portugal', 'Puerto-Rico', 'Scotland', 'South', 'Taiwan', 'Thailand', 'Trinadad&Tobago', 'United-States', 'Vietnam', 'Yugoslavia'\n",
       "'label'           '<=50K', '>50K'                                                                                                                                                                                                                                                                                                                                                                                                                                                                                                      "
      ]
     },
     "metadata": {},
     "output_type": "display_data"
    }
   ],
   "source": [
    "# Infer schema from the computed statistics.\n",
    "schema = tfdv.infer_schema(statistics=train_stats)\n",
    "\n",
    "# Display the inferred schema\n",
    "tfdv.display_schema(schema)"
   ]
  },
  {
   "cell_type": "markdown",
   "metadata": {
    "id": "5oj_GIprgPU1"
   },
   "source": [
    "## Generate and visualize evaluation dataset statistics"
   ]
  },
  {
   "cell_type": "markdown",
   "metadata": {
    "id": "rTYMPukogPU1"
   },
   "source": [
    "Après avoir généré le schéma, l'étape suivante consiste à examiner l'ensemble de données d'évaluation. Vous commencerez par calculer ses statistiques, puis vous les comparerez à celles de la formation. Il est important que les caractéristiques numériques et catégorielles des données d'évaluation appartiennent à peu près à la même gamme que les données d'apprentissage. Sinon, vous risquez d'avoir une distribution biaisée qui affectera négativement la précision de votre modèle.\n",
    "\n",
    "TFDV vous permet de générer les statistiques des jeux de données d'apprentissage et d'évaluation côte à côte. Vous pouvez utiliser la fonction [`visualize_statistics()`](https://www.tensorflow.org/tfx/data_validation/api_docs/python/tfdv/visualize_statistics) et passer des paramètres supplémentaires pour superposer les statistiques des deux ensembles de données (référencées comme statistiques de gauche et de droite). Voyons quels sont ces paramètres :\n",
    "\n",
    "- `lhs_statistics` : Paramètre obligatoire. Attend une instance de `DatasetFeatureStatisticsList`.\n",
    "\n",
    "- `rhs_statistics` : Attend une instance de `DatasetFeatureStatisticsList` à comparer avec `lhs_statistics`.\n",
    "\n",
    "- `lhs_name` : Nom de l'ensemble de données `lhs_statistics`.\n",
    "\n",
    "- `rhs_name` : Nom de l'ensemble de données `rhs_statistics`."
   ]
  },
  {
   "cell_type": "code",
   "execution_count": 10,
   "metadata": {
    "id": "bzZy1x3c6Mi0",
    "scrolled": true
   },
   "outputs": [
    {
     "data": {
      "text/html": [
       "<iframe id='facets-iframe' width=\"100%\" height=\"500px\"></iframe>\n",
       "        <script>\n",
       "        facets_iframe = document.getElementById('facets-iframe');\n",
       "        facets_html = '<script src=\"https://cdnjs.cloudflare.com/ajax/libs/webcomponentsjs/1.3.3/webcomponents-lite.js\"><\\/script><link rel=\"import\" href=\"https://raw.githubusercontent.com/PAIR-code/facets/master/facets-dist/facets-jupyter.html\"><facets-overview proto-input=\"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\"></facets-overview>';\n",
       "        facets_iframe.srcdoc = facets_html;\n",
       "         facets_iframe.id = \"\";\n",
       "         setTimeout(() => {\n",
       "           facets_iframe.setAttribute('height', facets_iframe.contentWindow.document.body.offsetHeight + 'px')\n",
       "         }, 1500)\n",
       "         </script>"
      ],
      "text/plain": [
       "<IPython.core.display.HTML object>"
      ]
     },
     "metadata": {},
     "output_type": "display_data"
    }
   ],
   "source": [
    "# Generate evaluation dataset statistics\n",
    "eval_stats = tfdv.generate_statistics_from_dataframe(eval_df)\n",
    "\n",
    "# Compare training with evaluation\n",
    "tfdv.visualize_statistics(\n",
    "    lhs_statistics=eval_stats, \n",
    "    rhs_statistics=train_stats, \n",
    "    lhs_name='EVAL_DATASET', \n",
    "    rhs_name='TRAIN_DATASET'\n",
    ")"
   ]
  },
  {
   "cell_type": "markdown",
   "metadata": {
    "id": "GODDgoHdgPU2"
   },
   "source": [
    "Nous vous encourageons à observer les résultats générés et à basculer les menus pour vous entraîner à manipuler la visualisation (par exemple, trier par manquants/zéros). Vous remarquerez que TFDV détecte les lignes mal formées que nous avons introduites plus tôt. Tout d'abord, les valeurs `min` et `max` de la ligne `age` indiquent respectivement `0` et `1000`. Nous savons que ces valeurs n'ont pas de sens si l'on parle d'adultes actifs. Deuxièmement, la ligne \"classe de travail\" dans les caractéristiques catégorielles indique que \"0,02%\" des données manquent cet attribut particulier. Supprimons ces lignes pour rendre les données plus propres."
   ]
  },
  {
   "cell_type": "code",
   "execution_count": 11,
   "metadata": {},
   "outputs": [],
   "source": [
    "# filter the age range\n",
    "eval_df = eval_df[eval_df['age'] > 16]\n",
    "eval_df = eval_df[eval_df['age'] < 91]\n",
    "\n",
    "# drop missing values\n",
    "eval_df.dropna(inplace=True)"
   ]
  },
  {
   "cell_type": "markdown",
   "metadata": {},
   "source": [
    "Vous pouvez alors calculer à nouveau les statistiques et voir la différence dans les résultats."
   ]
  },
  {
   "cell_type": "code",
   "execution_count": 12,
   "metadata": {},
   "outputs": [
    {
     "data": {
      "text/html": [
       "<iframe id='facets-iframe' width=\"100%\" height=\"500px\"></iframe>\n",
       "        <script>\n",
       "        facets_iframe = document.getElementById('facets-iframe');\n",
       "        facets_html = '<script src=\"https://cdnjs.cloudflare.com/ajax/libs/webcomponentsjs/1.3.3/webcomponents-lite.js\"><\\/script><link rel=\"import\" href=\"https://raw.githubusercontent.com/PAIR-code/facets/master/facets-dist/facets-jupyter.html\"><facets-overview proto-input=\"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\"></facets-overview>';\n",
       "        facets_iframe.srcdoc = facets_html;\n",
       "         facets_iframe.id = \"\";\n",
       "         setTimeout(() => {\n",
       "           facets_iframe.setAttribute('height', facets_iframe.contentWindow.document.body.offsetHeight + 'px')\n",
       "         }, 1500)\n",
       "         </script>"
      ],
      "text/plain": [
       "<IPython.core.display.HTML object>"
      ]
     },
     "metadata": {},
     "output_type": "display_data"
    }
   ],
   "source": [
    "# Generate evaluation dataset statistics\n",
    "eval_stats = tfdv.generate_statistics_from_dataframe(eval_df)\n",
    "\n",
    "# Compare training with evaluation\n",
    "tfdv.visualize_statistics(\n",
    "    lhs_statistics=eval_stats, \n",
    "    rhs_statistics=train_stats, \n",
    "    lhs_name='EVAL_DATASET', \n",
    "    rhs_name='TRAIN_DATASET'\n",
    ")"
   ]
  },
  {
   "cell_type": "markdown",
   "metadata": {
    "id": "J3Lvnr-YgPU2"
   },
   "source": [
    "## Calculate and display evaluation anomalies"
   ]
  },
  {
   "cell_type": "markdown",
   "metadata": {
    "id": "D1D9bNcigPU2"
   },
   "source": [
    "You can use your reference schema to check for anomalies such as new values for a specific feature in the evaluation data. Detected anomalies can either be considered a real error that needs to be cleaned, or depending on your domain knowledge and the specific case, they can be accepted. \n",
    "\n",
    "Let's detect and display evaluation anomalies and see if there are any problems that need to be addressed."
   ]
  },
  {
   "cell_type": "code",
   "execution_count": 13,
   "metadata": {
    "id": "OR5dBqpW6ky2"
   },
   "outputs": [
    {
     "data": {
      "text/html": [
       "<div>\n",
       "<style scoped>\n",
       "    .dataframe tbody tr th:only-of-type {\n",
       "        vertical-align: middle;\n",
       "    }\n",
       "\n",
       "    .dataframe tbody tr th {\n",
       "        vertical-align: top;\n",
       "    }\n",
       "\n",
       "    .dataframe thead th {\n",
       "        text-align: right;\n",
       "    }\n",
       "</style>\n",
       "<table border=\"1\" class=\"dataframe\">\n",
       "  <thead>\n",
       "    <tr style=\"text-align: right;\">\n",
       "      <th></th>\n",
       "      <th>Anomaly short description</th>\n",
       "      <th>Anomaly long description</th>\n",
       "    </tr>\n",
       "    <tr>\n",
       "      <th>Feature name</th>\n",
       "      <th></th>\n",
       "      <th></th>\n",
       "    </tr>\n",
       "  </thead>\n",
       "  <tbody>\n",
       "    <tr>\n",
       "      <th>'occupation'</th>\n",
       "      <td>Unexpected string values</td>\n",
       "      <td>Examples contain values missing from the schema: gamer (&lt;1%).</td>\n",
       "    </tr>\n",
       "    <tr>\n",
       "      <th>'native-country'</th>\n",
       "      <td>Unexpected string values</td>\n",
       "      <td>Examples contain values missing from the schema: Mongolia (&lt;1%).</td>\n",
       "    </tr>\n",
       "    <tr>\n",
       "      <th>'race'</th>\n",
       "      <td>Unexpected string values</td>\n",
       "      <td>Examples contain values missing from the schema: Asian (&lt;1%).</td>\n",
       "    </tr>\n",
       "  </tbody>\n",
       "</table>\n",
       "</div>"
      ],
      "text/plain": [
       "                 Anomaly short description  \\\n",
       "Feature name                                 \n",
       "'occupation'      Unexpected string values   \n",
       "'native-country'  Unexpected string values   \n",
       "'race'            Unexpected string values   \n",
       "\n",
       "                                                           Anomaly long description  \n",
       "Feature name                                                                         \n",
       "'occupation'      Examples contain values missing from the schema: gamer (<1%).      \n",
       "'native-country'  Examples contain values missing from the schema: Mongolia (<1%).   \n",
       "'race'            Examples contain values missing from the schema: Asian (<1%).      "
      ]
     },
     "metadata": {},
     "output_type": "display_data"
    }
   ],
   "source": [
    "# Check evaluation data for errors by validating the evaluation dataset statistics using the reference schema\n",
    "anomalies =  tfdv.validate_statistics(statistics=eval_stats, schema=schema)\n",
    "\n",
    "# Visualize anomalies\n",
    "tfdv.display_anomalies(anomalies)"
   ]
  },
  {
   "cell_type": "markdown",
   "metadata": {
    "id": "HeEvhvgqzLu-"
   },
   "source": [
    "## Révision du schéma\n",
    "\n",
    "Comme le montrent les résultats ci-dessus, TFDV est capable de détecter les irrégularités restantes que nous avons introduites précédemment. Les descriptions courtes et longues nous indiquent ce qui a été détecté. Comme prévu, il y a des valeurs de chaîne pour `race`, `native-country` et `occupation` qui ne sont pas trouvées dans le domaine du schéma de l'ensemble d'entraînement (vous pourriez voir un résultat différent si le mélange des ensembles de données était appliqué). Ce que vous décidez de faire à propos des anomalies dépend de votre connaissance du domaine des données. Si une anomalie indique une erreur de données, les données sous-jacentes doivent être corrigées. Sinon, vous pouvez mettre à jour le schéma pour inclure les valeurs dans l'ensemble de données d'évaluation.\n",
    "\n",
    "TFDV fournit un ensemble de méthodes et de paramètres utilitaires que vous pouvez utiliser pour réviser le schéma inféré. Cette [référence] (https://www.tensorflow.org/tfx/data_validation/anomalies) énumère les types d'anomalies et les paramètres que vous pouvez modifier, mais nous ne nous concentrerons ici que sur quelques-uns d'entre eux.\n",
    "\n",
    "- Vous pouvez assouplir la fraction minimale des valeurs qui doivent provenir du domaine d'une caractéristique particulière (comme décrit par `ENUM_TYPE_UNEXPECTED_STRING_VALUES` dans la [référence](https://www.tensorflow.org/tfx/data_validation/anomalies)) :\n",
    "\n",
    "```python\n",
    "tfdv.get_feature(schema, 'feature_column_name').distribution_constraints.min_domain_mass = <float : 0.0 à 1.0>\n",
    "```\n",
    "\n",
    "- Vous pouvez ajouter une nouvelle valeur au domaine d'une caractéristique particulière :\n",
    "\n",
    "```python\n",
    "tfdv.get_domain(schema, 'feature_column_name').value.append('string')\n",
    "```\n",
    "\n",
    "Utilisons-les dans la section suivante."
   ]
  },
  {
   "cell_type": "markdown",
   "metadata": {
    "id": "HKECg6Lf6-ks"
   },
   "source": [
    "## Fixer les anomalies dans le schéma\n",
    "\n",
    "Disons que nous voulons accepter les anomalies de chaîne signalées comme valides. Si vous voulez tolérer une fraction de valeurs manquantes dans l'ensemble de données d'évaluation, vous pouvez le faire comme suit :"
   ]
  },
  {
   "cell_type": "code",
   "execution_count": null,
   "metadata": {},
   "outputs": [],
   "source": [
    "#Relâchez la fraction minimale des valeurs qui doivent provenir du domaine pour la caractéristique `native-country`.\n",
    "country_feature = tfdv.get_feature(schema, 'native-country')\n",
    "country_feature.distribution_constraints.min_domain_mass = 0.9\n",
    "\n",
    "#Relache la fraction minimale des valeurs qui doivent provenir du domaine pour la caractéristique `occupation`.\n",
    "occupation_feature = tfdv.get_feature(schema, 'occupation')\n",
    "occupation_feature.distribution_constraints.min_domain_mass = 0.9"
   ]
  },
  {
   "cell_type": "markdown",
   "metadata": {},
   "source": [
    "Si l'on veut ajouterque des valeurs valides au domaine, on peut procéder comme suit :"
   ]
  },
  {
   "cell_type": "code",
   "execution_count": null,
   "metadata": {
    "id": "hTCWS04p6lDh"
   },
   "outputs": [],
   "source": [
    "# Add new value to the domain of the feature `race`\n",
    "race_domain = tfdv.get_domain(schema, 'race')\n",
    "race_domain.value.append('Asian')"
   ]
  },
  {
   "cell_type": "markdown",
   "metadata": {},
   "source": [
    "En outre, on peut également restreindre la plage d'une caractéristique numérique. Cela permettra de savoir si une valeur est invalide sans avoir à l'inspecter visuellement (par exemple, les valeurs invalides de `l'âge` plus tôt)."
   ]
  },
  {
   "cell_type": "code",
   "execution_count": null,
   "metadata": {},
   "outputs": [],
   "source": [
    "# Restrict the range of the `age` feature\n",
    "tfdv.set_domain(schema, 'age', schema_pb2.IntDomain(name='age', min=17, max=90))\n",
    "\n",
    "# Display the modified schema. Notice the `Domain` column of `age`.\n",
    "tfdv.display_schema(schema)"
   ]
  },
  {
   "cell_type": "markdown",
   "metadata": {},
   "source": [
    "With these revisions, running the validation should now show no anomalies."
   ]
  },
  {
   "cell_type": "code",
   "execution_count": null,
   "metadata": {},
   "outputs": [],
   "source": [
    "# Validate eval stats after updating the schema \n",
    "updated_anomalies = tfdv.validate_statistics(eval_stats, schema)\n",
    "tfdv.display_anomalies(updated_anomalies)"
   ]
  },
  {
   "cell_type": "markdown",
   "metadata": {},
   "source": [
    "## Examining dataset slices\n",
    "\n",
    "TFDV  permet également d'analyser des tranches spécifiques de notre jeu de données. Ceci est particulièrement utile si nous voulons vérifier si un type de caractéristique est bien représenté dans l'ensemble de données. Prenons un exemple où nous voulons comparer les statistiques des participants masculins et féminins."
   ]
  },
  {
   "cell_type": "markdown",
   "metadata": {},
   "source": [
    "Tout d'abord, on utilise la méthode [`get_feature_value_slicer`](https://github.com/tensorflow/data-validation/blob/master/tensorflow_data_validation/utils/slicing_util.py#L48) du `slicing_util` pour obtenir les caractéristiques que nous voulons examiner. On peut le spécifier en passant un dictionnaire à l'argument `features`. \n",
    " \"Si vous voulez obtenir le domaine entier d'une caractéristique, alors vous pouvez associer le nom de la caractéristique avec `None` comme montré ci-dessous. Cela signifie que vous obtiendrez des tranches pour les entrées `Male` et `Female`. Ceci renvoie une fonction qui peut être utilisée pour extraire la tranche de la caractéristique en question.\""
   ]
  },
  {
   "cell_type": "code",
   "execution_count": null,
   "metadata": {},
   "outputs": [],
   "source": [
    "from tensorflow_data_validation.utils import slicing_util\n",
    "\n",
    "slice_fn = slicing_util.get_feature_value_slicer(features={'sex': None})"
   ]
  },
  {
   "cell_type": "markdown",
   "metadata": {},
   "source": [
    "Avec la fonction slice prête, vous pouvez maintenant générer les statistiques. Vous devez dire à TFDV que vous avez besoin de statistiques pour les caractéristiques que vous avez définies et vous pouvez le faire à travers l'argument `slice_functions` de [`tfdv.StatsOptions`](https://www.tensorflow.org/tfx/data_validation/api_docs/python/tfdv/StatsOptions). Préparons cela dans la cellule ci-dessous. Notez que vous devez aussi passer le schéma."
   ]
  },
  {
   "cell_type": "code",
   "execution_count": null,
   "metadata": {},
   "outputs": [],
   "source": [
    "# Declare stats options\n",
    "slice_stats_options = tfdv.StatsOptions(schema=schema,\n",
    "                                        slice_functions=[slice_fn],\n",
    "                                        infer_type_from_schema=True)"
   ]
  },
  {
   "cell_type": "markdown",
   "metadata": {},
   "source": [
    "Vous passerez ensuite ces options à la méthode `generate_statistics_from_csv()`. Au moment de l'écriture, la génération de statistiques tranchées ne fonctionne que pour les CSVs, vous devrez donc convertir le dataframe Pandas en CSV. Passer les `slice_stats_options` à la méthode `generate_statistics_from_dataframe()` ne produira pas les résultats attendus."
   ]
  },
  {
   "cell_type": "code",
   "execution_count": null,
   "metadata": {},
   "outputs": [],
   "source": [
    "# Convert dataframe to CSV since `slice_functions` works only with `tfdv.generate_statistics_from_csv`\n",
    "CSV_PATH = 'slice_sample.csv'\n",
    "train_df.to_csv(CSV_PATH)\n",
    "\n",
    "# Calculate statistics for the sliced dataset\n",
    "sliced_stats = tfdv.generate_statistics_from_csv(CSV_PATH, stats_options=slice_stats_options)"
   ]
  },
  {
   "cell_type": "markdown",
   "metadata": {},
   "source": [
    "Avec cela, vous avez maintenant les statistiques pour la tranche de l'ensemble. Celles-ci sont emballées dans un tampon de protocole `DatasetFeatureStatisticsList`. Vous pouvez voir les noms des ensembles de données ci-dessous. Le premier élément de la liste (i.e. index=0) est nommé `All_Examples` et contient juste les statistiques de l'ensemble des données. Les deux éléments suivants (i.e. nommés `sex_Male` et `sex_Female`) sont les jeux de données qui contiennent les statistiques pour les tranches. Il est important de noter que ces jeux de données sont du type : `DatasetFeatureStatistics`. Vous verrez pourquoi c'est important après la cellule ci-dessous."
   ]
  },
  {
   "cell_type": "code",
   "execution_count": null,
   "metadata": {},
   "outputs": [],
   "source": [
    "print(f'Datasets generated: {[sliced.name for sliced in sliced_stats.datasets]}')\n",
    "\n",
    "print(f'Type of sliced_stats elements: {type(sliced_stats.datasets[0])}')"
   ]
  },
  {
   "cell_type": "markdown",
   "metadata": {},
   "source": [
    "Vous pouvez alors visualiser les statistiques comme précédemment pour examiner les tranches. Une mise en garde importante est que `visualize_statistics()` accepte un type `DatasetFeatureStatisticsList` au lieu de `DatasetFeatureStatistics`. Ainsi, au moins pour cette version de TFDV, vous devrez le convertir au type correct."
   ]
  },
  {
   "cell_type": "code",
   "execution_count": null,
   "metadata": {},
   "outputs": [],
   "source": [
    "from tensorflow_metadata.proto.v0.statistics_pb2 import DatasetFeatureStatisticsList\n",
    "\n",
    "# Convert `Male` statistics (index=1) to the correct type and get the dataset name\n",
    "male_stats_list = DatasetFeatureStatisticsList()\n",
    "male_stats_list.datasets.extend([sliced_stats.datasets[1]])\n",
    "male_stats_name = sliced_stats.datasets[1].name\n",
    "\n",
    "# Convert `Female` statistics (index=2) to the correct type and get the dataset name\n",
    "female_stats_list = DatasetFeatureStatisticsList()\n",
    "female_stats_list.datasets.extend([sliced_stats.datasets[2]])\n",
    "female_stats_name = sliced_stats.datasets[2].name\n",
    "\n",
    "# Visualize the two slices side by side\n",
    "tfdv.visualize_statistics(\n",
    "    lhs_statistics=male_stats_list,\n",
    "    rhs_statistics=female_stats_list,\n",
    "    lhs_name=male_stats_name,\n",
    "    rhs_name=female_stats_name\n",
    ")"
   ]
  },
  {
   "cell_type": "markdown",
   "metadata": {},
   "source": [
    "Vous devriez maintenant voir la visualisation des deux tranches et vous pouvez comparer comment elles sont représentées dans l'ensemble de données. \n",
    "\n",
    "Nous vous encourageons à revenir au début de cette section et à essayer différentes tranches. Voici d'autres possibilités que vous pouvez explorer :\n",
    "\n",
    "* Si vous voulez être plus spécifique, alors vous pouvez faire correspondre la valeur spécifique au nom de la caractéristique. Par exemple, si vous voulez seulement `Male`, alors vous pouvez le déclarer comme `features={'sex' : [b'Male']}`. Notez que la chaîne littérale doit être passée en octets avec le préfixe `b'`.\n",
    "\n",
    "* Vous pouvez également passer plusieurs caractéristiques si vous le souhaitez. Par exemple, si vous voulez couper à la fois les caractéristiques `sex` et `race`, vous pouvez faire `features={'sex' : Aucun, 'race' : Aucun}`.\n",
    "\n",
    "Vous pouvez trouver fastidieux ou inefficace de refaire tout le processus pour une tranche particulière. Pour cela, vous pouvez créer des fonctions d'aide pour rationaliser les conversions de type et vous verrez une implémentation dans le devoir de cette semaine."
   ]
  },
  {
   "cell_type": "markdown",
   "metadata": {
    "id": "YY812jDDgPU3"
   },
   "source": [
    "\n",
    "\n",
    "* [TFDV Guide](https://www.tensorflow.org/tfx/data_validation/get_started) \n",
    "* [TFDV blog post](https://blog.tensorflow.org/2018/09/introducing-tensorflow-data-validation.html)\n",
    "* [Tensorflow Official Tutorial](https://colab.research.google.com/github/tensorflow/tfx/blob/master/docs/tutorials/data_validation/tfdv_basic.ipynb#scrollTo=mPt5BHTwy_0F)\n",
    "* [API Docs](https://www.tensorflow.org/tfx/data_validation/api_docs/python/tfdv)"
   ]
  },
  {
   "cell_type": "code",
   "execution_count": null,
   "metadata": {},
   "outputs": [],
   "source": []
  }
 ],
 "metadata": {
  "colab": {
   "collapsed_sections": [],
   "name": "C2_W1_Lab_1_TFDV_Exercise.ipynb",
   "provenance": []
  },
  "kernelspec": {
   "display_name": "Python 3 (ipykernel)",
   "language": "python",
   "name": "python3"
  },
  "language_info": {
   "codemirror_mode": {
    "name": "ipython",
    "version": 3
   },
   "file_extension": ".py",
   "mimetype": "text/x-python",
   "name": "python",
   "nbconvert_exporter": "python",
   "pygments_lexer": "ipython3",
   "version": "3.8.13"
  }
 },
 "nbformat": 4,
 "nbformat_minor": 4
}
